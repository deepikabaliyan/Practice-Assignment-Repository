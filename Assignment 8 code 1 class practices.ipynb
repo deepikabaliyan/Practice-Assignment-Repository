{
 "cells": [
  {
   "cell_type": "code",
   "execution_count": 1,
   "id": "bcc83ee2",
   "metadata": {},
   "outputs": [],
   "source": [
    "def interest(p,r,t):\n",
    " si=(p*r*t)/100\n",
    " print(\"si=\",si)\n",
    " amt=total(p,si)\n",
    " print(amt)\n",
    " \n",
    " \n",
    "def total(p,si):\n",
    " totalamount=p+si\n",
    " return totalamount"
   ]
  },
  {
   "cell_type": "code",
   "execution_count": 2,
   "id": "89919e32",
   "metadata": {},
   "outputs": [
    {
     "name": "stdout",
     "output_type": "stream",
     "text": [
      "si= 500.0\n",
      "5500.0\n"
     ]
    }
   ],
   "source": [
    "interest(5000,5,2)"
   ]
  },
  {
   "cell_type": "code",
   "execution_count": 3,
   "id": "9d18bda1",
   "metadata": {},
   "outputs": [
    {
     "name": "stdout",
     "output_type": "stream",
     "text": [
      "Enter principal:3500\n",
      "3500\n",
      "Enter rate5\n",
      "5.0\n",
      "Enter time2\n",
      "2\n",
      "si= 350.0\n",
      "3850.0\n"
     ]
    }
   ],
   "source": [
    "p=int(input(\"Enter principal:\"))\n",
    "print(p) \n",
    "r=float(input(\"Enter rate\"))\n",
    "print(r) \n",
    "t=int(input(\"Enter time\"))\n",
    "print(t)\n",
    "interest(p,r,t)"
   ]
  },
  {
   "cell_type": "code",
   "execution_count": 4,
   "id": "1ca91e13",
   "metadata": {},
   "outputs": [],
   "source": [
    "class Employee:\n",
    "    def __init__(self,id,name,age):\n",
    "        self.id=id\n",
    "        self.name=name\n",
    "        self.age=age\n",
    "    def display(self):\n",
    "        print(\"Id:\",self.id,\"Name:\",self.name,\"Age:\",self.age)\n",
    "    def userinput(self):\n",
    "        self.id=input(\"enter id:\")\n",
    "        self.name=input(\"enter name:\")\n",
    "        self.age=input(\"enter age:\")\n",
    "        self.display()"
   ]
  },
  {
   "cell_type": "code",
   "execution_count": 5,
   "id": "a0fa91e1",
   "metadata": {},
   "outputs": [
    {
     "name": "stdout",
     "output_type": "stream",
     "text": [
      "Id: 100 Name: ABC Age: 20\n"
     ]
    }
   ],
   "source": [
    "emp1=Employee(100,\"ABC\",20)\n",
    "emp1.display()"
   ]
  },
  {
   "cell_type": "code",
   "execution_count": 6,
   "id": "b83a42bc",
   "metadata": {},
   "outputs": [
    {
     "name": "stdout",
     "output_type": "stream",
     "text": [
      "enter id:102\n",
      "enter name:deepika\n",
      "enter age:32\n",
      "Id: 102 Name: deepika Age: 32\n"
     ]
    }
   ],
   "source": [
    "emp2=Employee(100,\"ABC\",20)\n",
    "emp2.userinput()"
   ]
  },
  {
   "cell_type": "code",
   "execution_count": 7,
   "id": "7d99d810",
   "metadata": {},
   "outputs": [
    {
     "name": "stdout",
     "output_type": "stream",
     "text": [
      "Id: 100 Name: ABC Age: 20\n",
      "enter id:102\n",
      "enter name:deepika\n",
      "enter age:30\n",
      "Id: 102 Name: deepika Age: 30\n"
     ]
    }
   ],
   "source": [
    "class Employee:\n",
    "    def __init__(self,id,name,age):\n",
    "        self.id=id\n",
    "        self.name=name\n",
    "        self.age=age\n",
    "    def display(self):\n",
    "        print(\"Id:\",self.id,\"Name:\",self.name,\"Age:\",self.age)\n",
    "    def userinput(self):\n",
    "        self.id=input(\"enter id:\")\n",
    "        self.name=input(\"enter name:\")\n",
    "        self.age=input(\"enter age:\")\n",
    "        self.display()\n",
    "emp1=Employee(100,\"ABC\",20)\n",
    "emp1.display()\n",
    "emp2=Employee(101,\"def\",21)\n",
    "emp2.userinput()"
   ]
  },
  {
   "cell_type": "code",
   "execution_count": 8,
   "id": "b567e099",
   "metadata": {},
   "outputs": [
    {
     "name": "stdout",
     "output_type": "stream",
     "text": [
      "1 abc 800\n",
      "1 abc 520.0\n"
     ]
    }
   ],
   "source": [
    "class Product:\n",
    "    def __init__(self,id,name,price):\n",
    "        self.id=id\n",
    "        self.name=name\n",
    "        self.price=price\n",
    "    def discount(self):\n",
    "        self.price=self.price-self.price*.35\n",
    "        return self.price\n",
    " \n",
    "    def display(self):\n",
    "        print(self.id,self.name,self.price)\n",
    "        self.discount()\n",
    "        print(self.id,self.name,self.price)\n",
    "p1=Product(1,\"abc\",800)\n",
    "p1.display()"
   ]
  },
  {
   "cell_type": "code",
   "execution_count": 15,
   "id": "217236e2",
   "metadata": {},
   "outputs": [
    {
     "name": "stdout",
     "output_type": "stream",
     "text": [
      "1 abc 800\n",
      "1 abc 520.0\n"
     ]
    }
   ],
   "source": [
    "class Product:\n",
    "    def __init__(self,id,name,price):\n",
    "        self.id=id\n",
    "        self.name=name\n",
    "        self.price=price\n",
    "    def discount(self):\n",
    "        self.price=self.price-self.price*.35\n",
    "        return self.price\n",
    " \n",
    "    def display(self):\n",
    "        print(self.id,self.name,self.price)\n",
    "        self.discount()\n",
    "        print(self.id,self.name,self.price)\n",
    "    p1=Product(1,\"abc\",800)\n",
    "    p1.display()\n",
    "    \n",
    "    "
   ]
  },
  {
   "cell_type": "code",
   "execution_count": null,
   "id": "4065d786",
   "metadata": {},
   "outputs": [],
   "source": []
  }
 ],
 "metadata": {
  "kernelspec": {
   "display_name": "Python 3 (ipykernel)",
   "language": "python",
   "name": "python3"
  },
  "language_info": {
   "codemirror_mode": {
    "name": "ipython",
    "version": 3
   },
   "file_extension": ".py",
   "mimetype": "text/x-python",
   "name": "python",
   "nbconvert_exporter": "python",
   "pygments_lexer": "ipython3",
   "version": "3.9.12"
  }
 },
 "nbformat": 4,
 "nbformat_minor": 5
}
