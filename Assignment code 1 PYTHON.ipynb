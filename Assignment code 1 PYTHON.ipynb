{
 "cells": [
  {
   "cell_type": "markdown",
   "id": "06d392f7",
   "metadata": {},
   "source": [
    "Ex-1 Convert two lists into a dictionary"
   ]
  },
  {
   "cell_type": "code",
   "execution_count": 1,
   "id": "7f3b3f8f",
   "metadata": {},
   "outputs": [],
   "source": [
    "keys=['Ten', 'Twenty', 'Thirty']\n",
    "values = [10,20,30]"
   ]
  },
  {
   "cell_type": "code",
   "execution_count": 2,
   "id": "2725b993",
   "metadata": {},
   "outputs": [
    {
     "name": "stdout",
     "output_type": "stream",
     "text": [
      "{'Ten': 10, 'Twenty': 20, 'Thirty': 30}\n"
     ]
    }
   ],
   "source": [
    "res_dict=dict(zip(keys,values))\n",
    "print(res_dict)"
   ]
  },
  {
   "cell_type": "code",
   "execution_count": 3,
   "id": "65ecce3f",
   "metadata": {},
   "outputs": [],
   "source": [
    "keys=['Ten', 'Twenty', 'Thirty']\n",
    "values = [10,20,30]"
   ]
  },
  {
   "cell_type": "code",
   "execution_count": 4,
   "id": "a1bd2a81",
   "metadata": {},
   "outputs": [
    {
     "name": "stdout",
     "output_type": "stream",
     "text": [
      "{'Ten': 10}\n",
      "{'Ten': 10, 'Twenty': 20}\n",
      "{'Ten': 10, 'Twenty': 20, 'Thirty': 30}\n"
     ]
    }
   ],
   "source": [
    "res_dict=dict()\n",
    "for i in range(len(keys)):\n",
    "    res_dict.update({keys[i]:values[i]})\n",
    "    print(res_dict)"
   ]
  },
  {
   "cell_type": "markdown",
   "id": "bc072208",
   "metadata": {},
   "source": [
    "Ex-2 Merge two Python dictionaries into one"
   ]
  },
  {
   "cell_type": "code",
   "execution_count": 5,
   "id": "81073f3a",
   "metadata": {},
   "outputs": [],
   "source": [
    "dict1={'Ten':10, 'Twenty':20, 'Thirty':30}\n",
    "dict2={'Thirty':30, 'Fourty':40, 'Fifty':50}"
   ]
  },
  {
   "cell_type": "code",
   "execution_count": 6,
   "id": "c66b7991",
   "metadata": {},
   "outputs": [
    {
     "name": "stdout",
     "output_type": "stream",
     "text": [
      "{'Thirty': 30, 'Fourty': 40, 'Fifty': 50}\n"
     ]
    }
   ],
   "source": [
    "dict3=dict2.copy()\n",
    "dict3.update(dict2)\n",
    "print(dict3)"
   ]
  },
  {
   "cell_type": "markdown",
   "id": "fb94d363",
   "metadata": {},
   "source": [
    "Ex-3 Initialize dictionary with default values"
   ]
  },
  {
   "cell_type": "code",
   "execution_count": 7,
   "id": "c1763b6f",
   "metadata": {},
   "outputs": [],
   "source": [
    "employees=['Kelly', 'Emma']\n",
    "defaults={\"designation\":'Developer', \"salary\":8000}"
   ]
  },
  {
   "cell_type": "code",
   "execution_count": 8,
   "id": "97b139d4",
   "metadata": {},
   "outputs": [
    {
     "name": "stdout",
     "output_type": "stream",
     "text": [
      "{'Kelly': {'designation': 'Developer', 'salary': 8000}, 'Emma': {'designation': 'Developer', 'salary': 8000}}\n"
     ]
    }
   ],
   "source": [
    "res = dict.fromkeys(employees,defaults)\n",
    "print(res)"
   ]
  },
  {
   "cell_type": "code",
   "execution_count": 9,
   "id": "77ff73a6",
   "metadata": {},
   "outputs": [
    {
     "name": "stdout",
     "output_type": "stream",
     "text": [
      "{'designation': 'Developer', 'salary': 8000}\n"
     ]
    }
   ],
   "source": [
    "print(res[\"Kelly\"])"
   ]
  },
  {
   "cell_type": "markdown",
   "id": "f69f206d",
   "metadata": {},
   "source": [
    "Ex-4 Create a dictionary by extracting the keys from a given dictionary"
   ]
  },
  {
   "cell_type": "code",
   "execution_count": 10,
   "id": "648e59a8",
   "metadata": {},
   "outputs": [],
   "source": [
    "sample_dict={\"name\":\"kelly\", \"age\":25, \"salary\":8000,\"city\":\"New york\"}"
   ]
  },
  {
   "cell_type": "code",
   "execution_count": 11,
   "id": "9c48d1c6",
   "metadata": {},
   "outputs": [
    {
     "name": "stdout",
     "output_type": "stream",
     "text": [
      "{'name': 'kelly', 'salary': 8000}\n"
     ]
    }
   ],
   "source": [
    "keys=[\"name\", \"salary\"]\n",
    "newDict={k:sample_dict[k]for k in keys}\n",
    "print(newDict)"
   ]
  },
  {
   "cell_type": "markdown",
   "id": "89294258",
   "metadata": {},
   "source": [
    "Ex-5 Delete a list of keys from a dictionary"
   ]
  },
  {
   "cell_type": "code",
   "execution_count": 12,
   "id": "5a38006a",
   "metadata": {},
   "outputs": [
    {
     "name": "stdout",
     "output_type": "stream",
     "text": [
      "{'age': 25, 'salary': 8000, 'city': 'New york'}\n",
      "{'age': 25, 'city': 'New york'}\n"
     ]
    }
   ],
   "source": [
    "sample_dict={\"name\":\"kelly\", \"age\":25, \"salary\":8000,\"city\":\"New york\"}\n",
    "keys=[\"name\", \"salary\"]\n",
    "for k in keys:\n",
    "    sample_dict.pop(k)\n",
    "    print(sample_dict)"
   ]
  },
  {
   "cell_type": "markdown",
   "id": "1c506474",
   "metadata": {},
   "source": [
    "Ex-6 Check if a value exists in a dictionary"
   ]
  },
  {
   "cell_type": "code",
   "execution_count": 13,
   "id": "3f079b31",
   "metadata": {},
   "outputs": [
    {
     "name": "stdout",
     "output_type": "stream",
     "text": [
      "200 present in a dict\n"
     ]
    }
   ],
   "source": [
    "sample_dict = {'a': 100, 'b': 200, 'c': 300}\n",
    "if 200 in sample_dict.values():\n",
    "    print('200 present in a dict')"
   ]
  },
  {
   "cell_type": "markdown",
   "id": "582ffdd7",
   "metadata": {},
   "source": [
    "Ex-7 Rename key of a dictionary"
   ]
  },
  {
   "cell_type": "code",
   "execution_count": 14,
   "id": "f90b316b",
   "metadata": {},
   "outputs": [
    {
     "name": "stdout",
     "output_type": "stream",
     "text": [
      "{'name': 'kelly', 'age': 25, 'salary': 8000, 'location': 'New york'}\n"
     ]
    }
   ],
   "source": [
    "sample_dict={\"name\":\"kelly\", \"age\":25, \"salary\":8000,\"city\":\"New york\"}\n",
    "sample_dict['location'] = sample_dict.pop('city')\n",
    "print(sample_dict)"
   ]
  },
  {
   "cell_type": "markdown",
   "id": "bf899702",
   "metadata": {},
   "source": [
    "Ex-8 Change value of a key in a nested dictionary"
   ]
  },
  {
   "cell_type": "code",
   "execution_count": 15,
   "id": "de6fd05e",
   "metadata": {},
   "outputs": [
    {
     "name": "stdout",
     "output_type": "stream",
     "text": [
      "{'emp1': {'name': 'Jhon', 'salary': 7500}, 'emp2': {'name': 'Emma', 'salary': 8000}, 'emp3': {'name': 'Brad', 'salary': 8500}}\n"
     ]
    }
   ],
   "source": [
    "sample_dict = {'emp1': {'name': 'Jhon', 'salary': 7500}, 'emp2': {'name': 'Emma', 'salary': 8000}, 'emp3': {'name': 'Brad', 'salary': 500}}\n",
    "sample_dict['emp3']['salary'] = 8500\n",
    "print(sample_dict)"
   ]
  },
  {
   "cell_type": "code",
   "execution_count": null,
   "id": "7b1cb9cf",
   "metadata": {},
   "outputs": [],
   "source": []
  }
 ],
 "metadata": {
  "kernelspec": {
   "display_name": "Python 3 (ipykernel)",
   "language": "python",
   "name": "python3"
  },
  "language_info": {
   "codemirror_mode": {
    "name": "ipython",
    "version": 3
   },
   "file_extension": ".py",
   "mimetype": "text/x-python",
   "name": "python",
   "nbconvert_exporter": "python",
   "pygments_lexer": "ipython3",
   "version": "3.9.12"
  }
 },
 "nbformat": 4,
 "nbformat_minor": 5
}
