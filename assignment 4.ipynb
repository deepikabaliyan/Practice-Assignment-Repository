{
 "cells": [
  {
   "cell_type": "markdown",
   "id": "516a33ca",
   "metadata": {},
   "source": [
    "loop/if"
   ]
  },
  {
   "cell_type": "code",
   "execution_count": 17,
   "id": "4e547488",
   "metadata": {},
   "outputs": [
    {
     "name": "stdout",
     "output_type": "stream",
     "text": [
      "0\n",
      "1\n",
      "2\n",
      "3\n"
     ]
    }
   ],
   "source": [
    "x = 0\n",
    "while (x < 4):\n",
    "    print(x)\n",
    "    x = x+1"
   ]
  },
  {
   "cell_type": "code",
   "execution_count": 18,
   "id": "32b3bbc3",
   "metadata": {},
   "outputs": [
    {
     "name": "stdout",
     "output_type": "stream",
     "text": [
      "0\n",
      "1\n",
      "2\n",
      "3\n"
     ]
    }
   ],
   "source": [
    "x = 0\n",
    "while (x < 4):\n",
    "    print(x)\n",
    "    x = x+1"
   ]
  },
  {
   "cell_type": "code",
   "execution_count": 19,
   "id": "54167596",
   "metadata": {},
   "outputs": [
    {
     "name": "stdout",
     "output_type": "stream",
     "text": [
      "10\n"
     ]
    }
   ],
   "source": [
    "i = 10\n",
    "while i <= 10:\n",
    "    print(i)\n",
    "    i = i+1"
   ]
  },
  {
   "cell_type": "code",
   "execution_count": 20,
   "id": "c3f4a7ee",
   "metadata": {},
   "outputs": [
    {
     "name": "stdout",
     "output_type": "stream",
     "text": [
      "8\n",
      "9\n",
      "10\n"
     ]
    }
   ],
   "source": [
    "i = 8\n",
    "while i <= 10:\n",
    "    print(i)\n",
    "    i = i+1"
   ]
  },
  {
   "cell_type": "code",
   "execution_count": 21,
   "id": "326d25d2",
   "metadata": {},
   "outputs": [
    {
     "name": "stdout",
     "output_type": "stream",
     "text": [
      "2\n",
      "3\n",
      "4\n",
      "5\n",
      "6\n"
     ]
    }
   ],
   "source": [
    "for x in range(2,7):\n",
    "    print(x)"
   ]
  },
  {
   "cell_type": "code",
   "execution_count": 22,
   "id": "19d00839",
   "metadata": {},
   "outputs": [
    {
     "name": "stdout",
     "output_type": "stream",
     "text": [
      "jan\n",
      "feb\n",
      "mar\n",
      "apr\n",
      "may\n",
      "june\n"
     ]
    }
   ],
   "source": [
    "months=[\"jan\",\"feb\",\"mar\",\"apr\",\"may\",\"june\"]\n",
    "for m in months:\n",
    "    print(m)"
   ]
  },
  {
   "cell_type": "code",
   "execution_count": 23,
   "id": "bdfb8a5f",
   "metadata": {},
   "outputs": [
    {
     "name": "stdout",
     "output_type": "stream",
     "text": [
      "cat\n",
      "window\n",
      "defenestrate\n"
     ]
    }
   ],
   "source": [
    "words=['cat','window','defenestrate']\n",
    "for w in words:\n",
    "    print(w)"
   ]
  },
  {
   "cell_type": "code",
   "execution_count": 24,
   "id": "84320492",
   "metadata": {},
   "outputs": [
    {
     "name": "stdout",
     "output_type": "stream",
     "text": [
      "cat 3\n",
      "window 6\n",
      "defenestrate 12\n"
     ]
    }
   ],
   "source": [
    "for w in words:\n",
    "    print(w, len(w))"
   ]
  },
  {
   "cell_type": "code",
   "execution_count": 25,
   "id": "6233d6f7",
   "metadata": {},
   "outputs": [
    {
     "data": {
      "text/plain": [
       "range(5, 10)"
      ]
     },
     "execution_count": 25,
     "metadata": {},
     "output_type": "execute_result"
    }
   ],
   "source": [
    "range(5,10)"
   ]
  },
  {
   "cell_type": "code",
   "execution_count": 26,
   "id": "15c356ca",
   "metadata": {},
   "outputs": [
    {
     "data": {
      "text/plain": [
       "range(0, 10, 3)"
      ]
     },
     "execution_count": 26,
     "metadata": {},
     "output_type": "execute_result"
    }
   ],
   "source": [
    "range(0,10,3)"
   ]
  },
  {
   "cell_type": "code",
   "execution_count": 27,
   "id": "3aeb944f",
   "metadata": {},
   "outputs": [
    {
     "data": {
      "text/plain": [
       "[0, 1, 2, 3, 4, 5, 6, 7, 8]"
      ]
     },
     "execution_count": 27,
     "metadata": {},
     "output_type": "execute_result"
    }
   ],
   "source": [
    "list(range(9))"
   ]
  },
  {
   "cell_type": "code",
   "execution_count": 28,
   "id": "2d539dd5",
   "metadata": {},
   "outputs": [
    {
     "name": "stdout",
     "output_type": "stream",
     "text": [
      "x is less than y\n"
     ]
    }
   ],
   "source": [
    "x=8\n",
    "y=4\n",
    "if(x>y):\n",
    "    st=\"x is less than y\"\n",
    "else:\n",
    "    st=\"x is greater than y\"\n",
    "print(st)"
   ]
  },
  {
   "cell_type": "code",
   "execution_count": 29,
   "id": "b0c5d2b7",
   "metadata": {},
   "outputs": [
    {
     "name": "stdout",
     "output_type": "stream",
     "text": [
      "x is greater than y\n"
     ]
    }
   ],
   "source": [
    "x=8\n",
    "y=4\n",
    "if(x<y):\n",
    "    st=\"x is less than y\"\n",
    "else:\n",
    "    st=\"x is greater than y\"\n",
    "print(st)"
   ]
  },
  {
   "cell_type": "code",
   "execution_count": 30,
   "id": "df260941",
   "metadata": {},
   "outputs": [
    {
     "name": "stdout",
     "output_type": "stream",
     "text": [
      "Please enter in integer:42\n"
     ]
    }
   ],
   "source": [
    "x=int(input(\"Please enter in integer:\"))"
   ]
  },
  {
   "cell_type": "code",
   "execution_count": 31,
   "id": "5cf504c0",
   "metadata": {},
   "outputs": [
    {
     "name": "stdout",
     "output_type": "stream",
     "text": [
      "More\n"
     ]
    }
   ],
   "source": [
    "if x < 0:\n",
    "    x=0\n",
    "    print('Negative changed to zero')\n",
    "elif x == 0:\n",
    "    print('zero')\n",
    "elif x == 1:\n",
    "    print('single')\n",
    "else:\n",
    "    print('More')"
   ]
  },
  {
   "cell_type": "code",
   "execution_count": 32,
   "id": "7e0fed5d",
   "metadata": {},
   "outputs": [
    {
     "name": "stdout",
     "output_type": "stream",
     "text": [
      "Shipping Cost is $25\n"
     ]
    }
   ],
   "source": [
    "total = 100\n",
    "country = \"US\"\n",
    "country = \"AU\"\n",
    "if country == \"US\":\n",
    "    if total <= 50:\n",
    "        print(\"Shipping Cost is $50\")\n",
    "elif total <= 100:\n",
    "    print(\"Shipping Cost is $25\")\n",
    "elif total <= 150:\n",
    "    print(\"Shipping Costs $5\")\n",
    "else:\n",
    "    print(\"FREE\")"
   ]
  },
  {
   "cell_type": "code",
   "execution_count": 39,
   "id": "79fd807c",
   "metadata": {},
   "outputs": [
    {
     "ename": "SyntaxError",
     "evalue": "invalid syntax (1101179621.py, line 3)",
     "output_type": "error",
     "traceback": [
      "\u001b[1;36m  Input \u001b[1;32mIn [39]\u001b[1;36m\u001b[0m\n\u001b[1;33m    if country == \"AU\"\u001b[0m\n\u001b[1;37m                      ^\u001b[0m\n\u001b[1;31mSyntaxError\u001b[0m\u001b[1;31m:\u001b[0m invalid syntax\n"
     ]
    }
   ],
   "source": [
    "total = 100\n",
    "country == \"AU\"\n",
    "if country == \"AU\"\n",
    "    if total<= 50:\n",
    "    print(\"Shipping Cost is $100\")\n",
    "else:\n",
    "    print(\"FREE\")"
   ]
  },
  {
   "cell_type": "code",
   "execution_count": 40,
   "id": "893eac09",
   "metadata": {},
   "outputs": [
    {
     "name": "stdout",
     "output_type": "stream",
     "text": [
      "Found an even number 2\n",
      "Found an even number 4\n",
      "Found an even number 6\n",
      "Found an even number 8\n"
     ]
    }
   ],
   "source": [
    "for num in range(2,10):\n",
    "    if num %2 == 0:\n",
    "        print(\"Found an even number\",num)\n",
    "    continue\n",
    "    print(\"Found a number\",num)"
   ]
  },
  {
   "cell_type": "code",
   "execution_count": 41,
   "id": "8b783006",
   "metadata": {},
   "outputs": [
    {
     "name": "stdout",
     "output_type": "stream",
     "text": [
      "Found an even number 3\n",
      "Found an even number 5\n",
      "Found an even number 7\n",
      "Found an even number 9\n"
     ]
    }
   ],
   "source": [
    "for num in range(2,10):\n",
    "    if num %2 == 1:\n",
    "        print(\"Found an even number\",num)\n",
    "    continue\n",
    "    print(\"Found a number\",num)"
   ]
  },
  {
   "cell_type": "code",
   "execution_count": 42,
   "id": "922dbff7",
   "metadata": {},
   "outputs": [
    {
     "name": "stdout",
     "output_type": "stream",
     "text": [
      "Found an even number 3\n",
      "Found an even number 5\n",
      "Found an even number 7\n",
      "Found an even number 9\n"
     ]
    }
   ],
   "source": [
    "for num in range(2,10):\n",
    "    if num %2 == 1:\n",
    "        print(\"Found an even number\",num)\n",
    "    continue\n",
    "    print(\"Found a number\",num)"
   ]
  },
  {
   "cell_type": "code",
   "execution_count": 43,
   "id": "23410874",
   "metadata": {},
   "outputs": [
    {
     "name": "stdout",
     "output_type": "stream",
     "text": [
      "11\n",
      "13\n"
     ]
    }
   ],
   "source": [
    "for x in range (10,20):\n",
    "\n",
    "    if (x == 15): break\n",
    "\n",
    "    if (x % 2 == 0) : continue\n",
    "\n",
    "    print(x)"
   ]
  },
  {
   "cell_type": "markdown",
   "id": "028d8a3b",
   "metadata": {},
   "source": [
    "Display numbers divisible by 5 from a list.Iterate the given list of numbers and print only those numbers which are divisible by 5."
   ]
  },
  {
   "cell_type": "code",
   "execution_count": 45,
   "id": "34af540a",
   "metadata": {},
   "outputs": [
    {
     "name": "stdout",
     "output_type": "stream",
     "text": [
      "Given list: [10, 20, 33, 46, 55]\n",
      "Divisible by 5:\n",
      "10\n",
      "20\n",
      "55\n"
     ]
    }
   ],
   "source": [
    "num_list = [10, 20, 33, 46, 55]\n",
    "\n",
    "print(\"Given list:\", num_list)\n",
    "\n",
    "print('Divisible by 5:')\n",
    "\n",
    "for num in num_list:\n",
    "\n",
    "    if num % 5 == 0:\n",
    "        \n",
    "        print(num)\n"
   ]
  },
  {
   "cell_type": "markdown",
   "id": "46c7dae9",
   "metadata": {},
   "source": [
    "Calculate the sum of all numbers from 1 to a given number"
   ]
  },
  {
   "cell_type": "code",
   "execution_count": 46,
   "id": "834c1e79",
   "metadata": {},
   "outputs": [],
   "source": [
    "s=0"
   ]
  },
  {
   "cell_type": "code",
   "execution_count": 47,
   "id": "b527c25a",
   "metadata": {},
   "outputs": [
    {
     "name": "stdout",
     "output_type": "stream",
     "text": [
      "Enter Number9\n"
     ]
    }
   ],
   "source": [
    "n=int(input(\"Enter Number\"))"
   ]
  },
  {
   "cell_type": "code",
   "execution_count": 48,
   "id": "9a5c5eab",
   "metadata": {},
   "outputs": [
    {
     "name": "stdout",
     "output_type": "stream",
     "text": [
      "\n",
      "\n",
      "Sum is : 1\n",
      "\n",
      "\n",
      "Sum is : 2\n",
      "\n",
      "\n",
      "Sum is : 3\n",
      "\n",
      "\n",
      "Sum is : 4\n",
      "\n",
      "\n",
      "Sum is : 5\n",
      "\n",
      "\n",
      "Sum is : 6\n",
      "\n",
      "\n",
      "Sum is : 7\n",
      "\n",
      "\n",
      "Sum is : 8\n",
      "\n",
      "\n",
      "Sum is : 9\n"
     ]
    }
   ],
   "source": [
    "for i in range(1,n+1,1):\n",
    "    s=s+1\n",
    "    print(\"\\n\")\n",
    "    print(\"Sum is :\",s)"
   ]
  },
  {
   "cell_type": "markdown",
   "id": "c384675c",
   "metadata": {},
   "source": [
    "Write a program to print multiplication table of a given number"
   ]
  },
  {
   "cell_type": "code",
   "execution_count": 49,
   "id": "2bd5d78e",
   "metadata": {},
   "outputs": [],
   "source": [
    "n=2"
   ]
  },
  {
   "cell_type": "code",
   "execution_count": 50,
   "id": "5ca75aa5",
   "metadata": {},
   "outputs": [
    {
     "name": "stdout",
     "output_type": "stream",
     "text": [
      "2\n",
      "4\n",
      "6\n",
      "8\n",
      "10\n",
      "12\n",
      "14\n",
      "16\n",
      "18\n",
      "20\n"
     ]
    }
   ],
   "source": [
    "for i in range(1,11,1):\n",
    "    product = n*i\n",
    "    print(product)"
   ]
  },
  {
   "cell_type": "code",
   "execution_count": 51,
   "id": "adaacb1f",
   "metadata": {},
   "outputs": [],
   "source": [
    "vec = [-4,-2,0,2,4]"
   ]
  },
  {
   "cell_type": "code",
   "execution_count": 52,
   "id": "aa2ce298",
   "metadata": {},
   "outputs": [
    {
     "name": "stdout",
     "output_type": "stream",
     "text": [
      "-8\n",
      "-4\n",
      "0\n",
      "4\n",
      "8\n"
     ]
    }
   ],
   "source": [
    "for x in vec:\n",
    "    x=x*2\n",
    "    print(x)"
   ]
  },
  {
   "cell_type": "code",
   "execution_count": 53,
   "id": "be3fa6dc",
   "metadata": {},
   "outputs": [
    {
     "name": "stdout",
     "output_type": "stream",
     "text": [
      "0\n",
      "2\n",
      "4\n"
     ]
    }
   ],
   "source": [
    "for x in vec:\n",
    "    if x >=0:\n",
    "        print(x)"
   ]
  },
  {
   "cell_type": "code",
   "execution_count": 54,
   "id": "849edade",
   "metadata": {},
   "outputs": [],
   "source": [
    "freshfruit=['banana', 'loganberry', 'passion fruit']\n",
    "for weapon in freshfruit:\n",
    "    weapon.strip()"
   ]
  },
  {
   "cell_type": "code",
   "execution_count": 55,
   "id": "55e5f42d",
   "metadata": {},
   "outputs": [
    {
     "name": "stdout",
     "output_type": "stream",
     "text": [
      "(0, 0)\n",
      "(1, 1)\n",
      "(2, 4)\n",
      "(3, 9)\n",
      "(4, 16)\n",
      "(5, 25)\n"
     ]
    }
   ],
   "source": [
    "for x in range(6):\n",
    "    x=(x,x**2)\n",
    "    print(x)"
   ]
  },
  {
   "cell_type": "code",
   "execution_count": null,
   "id": "e7557397",
   "metadata": {},
   "outputs": [],
   "source": []
  }
 ],
 "metadata": {
  "kernelspec": {
   "display_name": "Python 3 (ipykernel)",
   "language": "python",
   "name": "python3"
  },
  "language_info": {
   "codemirror_mode": {
    "name": "ipython",
    "version": 3
   },
   "file_extension": ".py",
   "mimetype": "text/x-python",
   "name": "python",
   "nbconvert_exporter": "python",
   "pygments_lexer": "ipython3",
   "version": "3.9.12"
  }
 },
 "nbformat": 4,
 "nbformat_minor": 5
}
