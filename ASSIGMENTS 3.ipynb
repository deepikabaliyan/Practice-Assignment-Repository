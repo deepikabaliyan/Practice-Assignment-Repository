{
 "cells": [
  {
   "cell_type": "code",
   "execution_count": 21,
   "id": "198e0470",
   "metadata": {},
   "outputs": [],
   "source": [
    "name='Teshla'"
   ]
  },
  {
   "cell_type": "code",
   "execution_count": 22,
   "id": "3dd5c485",
   "metadata": {},
   "outputs": [
    {
     "name": "stdout",
     "output_type": "stream",
     "text": [
      "Teshla\n"
     ]
    }
   ],
   "source": [
    "print(name)"
   ]
  },
  {
   "cell_type": "code",
   "execution_count": 23,
   "id": "b169c8a6",
   "metadata": {},
   "outputs": [
    {
     "data": {
      "text/plain": [
       "'teshla'"
      ]
     },
     "execution_count": 23,
     "metadata": {},
     "output_type": "execute_result"
    }
   ],
   "source": [
    "name.lower()"
   ]
  },
  {
   "cell_type": "code",
   "execution_count": 24,
   "id": "418a1525",
   "metadata": {},
   "outputs": [
    {
     "data": {
      "text/plain": [
       "'TESHLA'"
      ]
     },
     "execution_count": 24,
     "metadata": {},
     "output_type": "execute_result"
    }
   ],
   "source": [
    "name.upper()"
   ]
  },
  {
   "cell_type": "code",
   "execution_count": 25,
   "id": "cc4c7f2e",
   "metadata": {},
   "outputs": [
    {
     "data": {
      "text/plain": [
       "6"
      ]
     },
     "execution_count": 25,
     "metadata": {},
     "output_type": "execute_result"
    }
   ],
   "source": [
    "len(name)"
   ]
  },
  {
   "cell_type": "code",
   "execution_count": 26,
   "id": "3301cff0",
   "metadata": {},
   "outputs": [
    {
     "data": {
      "text/plain": [
       "'Teshla'"
      ]
     },
     "execution_count": 26,
     "metadata": {},
     "output_type": "execute_result"
    }
   ],
   "source": [
    "name.capitalize()"
   ]
  },
  {
   "cell_type": "code",
   "execution_count": 27,
   "id": "b268b918",
   "metadata": {},
   "outputs": [
    {
     "data": {
      "text/plain": [
       "True"
      ]
     },
     "execution_count": 27,
     "metadata": {},
     "output_type": "execute_result"
    }
   ],
   "source": [
    "name.isalpha ()"
   ]
  },
  {
   "cell_type": "code",
   "execution_count": 28,
   "id": "fdf28021",
   "metadata": {},
   "outputs": [],
   "source": [
    "starship=\"Enterprise\""
   ]
  },
  {
   "cell_type": "code",
   "execution_count": 29,
   "id": "62edf361",
   "metadata": {},
   "outputs": [
    {
     "data": {
      "text/plain": [
       "True"
      ]
     },
     "execution_count": 29,
     "metadata": {},
     "output_type": "execute_result"
    }
   ],
   "source": [
    "starship.startswith(\"en\")\n",
    "starship.endswith(\"rise\")"
   ]
  },
  {
   "cell_type": "code",
   "execution_count": 30,
   "id": "9e2a2382",
   "metadata": {},
   "outputs": [],
   "source": [
    "string=\"Welcome Sir\""
   ]
  },
  {
   "cell_type": "code",
   "execution_count": 31,
   "id": "fd709f5a",
   "metadata": {},
   "outputs": [
    {
     "name": "stdout",
     "output_type": "stream",
     "text": [
      "Welcome Sir\n"
     ]
    }
   ],
   "source": [
    "print(string)"
   ]
  },
  {
   "cell_type": "code",
   "execution_count": 32,
   "id": "a2b9b894",
   "metadata": {},
   "outputs": [],
   "source": [
    "a=string.replace(\"Welcome\",\"Goodbye\")"
   ]
  },
  {
   "cell_type": "code",
   "execution_count": 33,
   "id": "08ca787f",
   "metadata": {},
   "outputs": [
    {
     "name": "stdout",
     "output_type": "stream",
     "text": [
      "Goodbye Sir\n"
     ]
    }
   ],
   "source": [
    "print(a)"
   ]
  },
  {
   "cell_type": "code",
   "execution_count": 43,
   "id": "2f2ca0d2",
   "metadata": {},
   "outputs": [],
   "source": [
    "txt=\"i like bananas\""
   ]
  },
  {
   "cell_type": "code",
   "execution_count": 44,
   "id": "70f0f14d",
   "metadata": {},
   "outputs": [],
   "source": [
    "x= txt.replace(\"bananas\",\"apple\")"
   ]
  },
  {
   "cell_type": "code",
   "execution_count": 45,
   "id": "0d4e905b",
   "metadata": {},
   "outputs": [
    {
     "name": "stdout",
     "output_type": "stream",
     "text": [
      "i like apple\n"
     ]
    }
   ],
   "source": [
    "print(x)"
   ]
  },
  {
   "cell_type": "code",
   "execution_count": 46,
   "id": "ce1d4135",
   "metadata": {},
   "outputs": [],
   "source": [
    "phrase=\"the surprise is in here somewhere\""
   ]
  },
  {
   "cell_type": "code",
   "execution_count": 47,
   "id": "d379e363",
   "metadata": {},
   "outputs": [
    {
     "data": {
      "text/plain": [
       "4"
      ]
     },
     "execution_count": 47,
     "metadata": {},
     "output_type": "execute_result"
    }
   ],
   "source": [
    "phrase.find('surprise')"
   ]
  },
  {
   "cell_type": "code",
   "execution_count": 48,
   "id": "b361adb4",
   "metadata": {},
   "outputs": [],
   "source": [
    "text=\"Hello World Datatrained\""
   ]
  },
  {
   "cell_type": "code",
   "execution_count": 49,
   "id": "ea349f07",
   "metadata": {},
   "outputs": [
    {
     "name": "stdout",
     "output_type": "stream",
     "text": [
      "['Hello', 'World', 'Datatrained']\n"
     ]
    }
   ],
   "source": [
    "print(text.split())"
   ]
  },
  {
   "cell_type": "code",
   "execution_count": 50,
   "id": "c43d9a41",
   "metadata": {},
   "outputs": [
    {
     "name": "stdout",
     "output_type": "stream",
     "text": [
      "['Hello', 'World', 'Datatrained']\n"
     ]
    }
   ],
   "source": [
    "print(text.split())"
   ]
  },
  {
   "cell_type": "markdown",
   "id": "edb061f8",
   "metadata": {},
   "source": [
    "Write a program that converts the following strings to lowercase: \"Animals\", \"Badger\", \"Honey Bee\", \"Honey Badger\". Print each lowercase string on a separate line."
   ]
  },
  {
   "cell_type": "code",
   "execution_count": 51,
   "id": "10779c23",
   "metadata": {},
   "outputs": [],
   "source": [
    "string1=\"animal\""
   ]
  },
  {
   "cell_type": "code",
   "execution_count": 52,
   "id": "f38d8543",
   "metadata": {},
   "outputs": [
    {
     "data": {
      "text/plain": [
       "'animal'"
      ]
     },
     "execution_count": 52,
     "metadata": {},
     "output_type": "execute_result"
    }
   ],
   "source": [
    "string1.lower()"
   ]
  },
  {
   "cell_type": "code",
   "execution_count": 53,
   "id": "ea68e069",
   "metadata": {},
   "outputs": [
    {
     "data": {
      "text/plain": [
       "'ANIMAL'"
      ]
     },
     "execution_count": 53,
     "metadata": {},
     "output_type": "execute_result"
    }
   ],
   "source": [
    "string1.upper()"
   ]
  },
  {
   "cell_type": "code",
   "execution_count": 55,
   "id": "21dd4260",
   "metadata": {},
   "outputs": [
    {
     "data": {
      "text/plain": [
       "'Animal'"
      ]
     },
     "execution_count": 55,
     "metadata": {},
     "output_type": "execute_result"
    }
   ],
   "source": [
    "string1.capitalize()"
   ]
  },
  {
   "cell_type": "code",
   "execution_count": 56,
   "id": "fdeae97c",
   "metadata": {},
   "outputs": [],
   "source": [
    "string2=\"Badger\""
   ]
  },
  {
   "cell_type": "code",
   "execution_count": 57,
   "id": "382ee40b",
   "metadata": {},
   "outputs": [
    {
     "data": {
      "text/plain": [
       "'badger'"
      ]
     },
     "execution_count": 57,
     "metadata": {},
     "output_type": "execute_result"
    }
   ],
   "source": [
    "string2.lower()"
   ]
  },
  {
   "cell_type": "code",
   "execution_count": 58,
   "id": "810bfbd2",
   "metadata": {},
   "outputs": [
    {
     "data": {
      "text/plain": [
       "'BADGER'"
      ]
     },
     "execution_count": 58,
     "metadata": {},
     "output_type": "execute_result"
    }
   ],
   "source": [
    "string2.upper()"
   ]
  },
  {
   "cell_type": "code",
   "execution_count": 59,
   "id": "a00e3d0d",
   "metadata": {},
   "outputs": [
    {
     "data": {
      "text/plain": [
       "'Badger'"
      ]
     },
     "execution_count": 59,
     "metadata": {},
     "output_type": "execute_result"
    }
   ],
   "source": [
    "string2.capitalize()"
   ]
  },
  {
   "cell_type": "code",
   "execution_count": 60,
   "id": "d075c2ee",
   "metadata": {},
   "outputs": [],
   "source": [
    "string3=\"Honey Bee\""
   ]
  },
  {
   "cell_type": "code",
   "execution_count": 61,
   "id": "05f43847",
   "metadata": {},
   "outputs": [
    {
     "data": {
      "text/plain": [
       "'honey bee'"
      ]
     },
     "execution_count": 61,
     "metadata": {},
     "output_type": "execute_result"
    }
   ],
   "source": [
    "string3.lower()"
   ]
  },
  {
   "cell_type": "markdown",
   "id": "7538cb0c",
   "metadata": {},
   "source": [
    "string3.upper()"
   ]
  },
  {
   "cell_type": "code",
   "execution_count": 70,
   "id": "a7976991",
   "metadata": {},
   "outputs": [
    {
     "data": {
      "text/plain": [
       "'Honey bee'"
      ]
     },
     "execution_count": 70,
     "metadata": {},
     "output_type": "execute_result"
    }
   ],
   "source": [
    "string3.capitalize()"
   ]
  },
  {
   "cell_type": "markdown",
   "id": "d44c28ab",
   "metadata": {},
   "source": [
    "string4=\"Honey Badger\""
   ]
  },
  {
   "cell_type": "code",
   "execution_count": 66,
   "id": "6cb0bf1b",
   "metadata": {},
   "outputs": [
    {
     "data": {
      "text/plain": [
       "'honey badger'"
      ]
     },
     "execution_count": 66,
     "metadata": {},
     "output_type": "execute_result"
    }
   ],
   "source": [
    "string4.lower()"
   ]
  },
  {
   "cell_type": "code",
   "execution_count": 67,
   "id": "c58082c7",
   "metadata": {},
   "outputs": [
    {
     "data": {
      "text/plain": [
       "'HONEY BADGER'"
      ]
     },
     "execution_count": 67,
     "metadata": {},
     "output_type": "execute_result"
    }
   ],
   "source": [
    "string4.upper()"
   ]
  },
  {
   "cell_type": "code",
   "execution_count": 69,
   "id": "e6a05d60",
   "metadata": {},
   "outputs": [
    {
     "data": {
      "text/plain": [
       "'Honey badger'"
      ]
     },
     "execution_count": 69,
     "metadata": {},
     "output_type": "execute_result"
    }
   ],
   "source": [
    "string4.capitalize()"
   ]
  },
  {
   "cell_type": "markdown",
   "id": "f679fe28",
   "metadata": {},
   "source": [
    "Write a program that prints out the result of .startswith(\"be\") on each of the following strings: string1 = \"Becomes\" string2 = \"becomes\" string3 = \"BEAR\" string4 = \" bEautiful\""
   ]
  },
  {
   "cell_type": "code",
   "execution_count": 71,
   "id": "bf988d39",
   "metadata": {},
   "outputs": [],
   "source": [
    "string1=\"Becomes\"\n",
    "string2=\"becomes\"\n",
    "string3=\"BEAR\"\n",
    "string4=\"bEautiful\""
   ]
  },
  {
   "cell_type": "markdown",
   "id": "e0b13f76",
   "metadata": {},
   "source": [
    "Using the same four strings from above, write a program that uses string methods to alter each string so that .startswith(\"be\") returns True for all of them"
   ]
  },
  {
   "cell_type": "code",
   "execution_count": 72,
   "id": "0b1adf7e",
   "metadata": {},
   "outputs": [
    {
     "name": "stdout",
     "output_type": "stream",
     "text": [
      "False\n",
      "True\n",
      "False\n",
      "False\n"
     ]
    }
   ],
   "source": [
    "print(string1.startswith(\"be\"))\n",
    "print(string2.startswith(\"be\"))\n",
    "print(string3.startswith(\"be\"))\n",
    "print(string4.startswith(\"be\"))"
   ]
  },
  {
   "cell_type": "markdown",
   "id": "a5a00dcd",
   "metadata": {},
   "source": [
    "Write a program that takes input from the user and displays that input back."
   ]
  },
  {
   "cell_type": "code",
   "execution_count": 73,
   "id": "40e7f119",
   "metadata": {},
   "outputs": [
    {
     "name": "stdout",
     "output_type": "stream",
     "text": [
      "Hello, What's upjust doing python\n",
      "myfriend said: just doing python\n"
     ]
    }
   ],
   "source": [
    "Abhi=\"Hello, What's up\"\n",
    "myfriend = input(Abhi)\n",
    "print(\"myfriend said:\", myfriend)"
   ]
  },
  {
   "cell_type": "code",
   "execution_count": 74,
   "id": "c6c531db",
   "metadata": {},
   "outputs": [
    {
     "name": "stdout",
     "output_type": "stream",
     "text": [
      "Hello, What's upjust doing python\n",
      "myfriend said: JUST DOING PYTHON\n"
     ]
    }
   ],
   "source": [
    "Abhi=\"Hello, What's up\"\n",
    "myfriend = input(Abhi)\n",
    "print(\"myfriend said:\", myfriend.upper())"
   ]
  },
  {
   "cell_type": "code",
   "execution_count": 75,
   "id": "d67ba02d",
   "metadata": {},
   "outputs": [
    {
     "name": "stdout",
     "output_type": "stream",
     "text": [
      "Hello, What's upjust doing python\n",
      "myfriend said: just doing python 17\n"
     ]
    }
   ],
   "source": [
    "Abhi=\"Hello, What's up\"\n",
    "myfriend = input(Abhi)\n",
    "print(\"myfriend said:\", myfriend, len(myfriend))"
   ]
  },
  {
   "cell_type": "code",
   "execution_count": null,
   "id": "1bd41066",
   "metadata": {},
   "outputs": [],
   "source": []
  },
  {
   "cell_type": "code",
   "execution_count": null,
   "id": "5f8b2309",
   "metadata": {},
   "outputs": [],
   "source": []
  }
 ],
 "metadata": {
  "kernelspec": {
   "display_name": "Python 3 (ipykernel)",
   "language": "python",
   "name": "python3"
  },
  "language_info": {
   "codemirror_mode": {
    "name": "ipython",
    "version": 3
   },
   "file_extension": ".py",
   "mimetype": "text/x-python",
   "name": "python",
   "nbconvert_exporter": "python",
   "pygments_lexer": "ipython3",
   "version": "3.9.12"
  }
 },
 "nbformat": 4,
 "nbformat_minor": 5
}
