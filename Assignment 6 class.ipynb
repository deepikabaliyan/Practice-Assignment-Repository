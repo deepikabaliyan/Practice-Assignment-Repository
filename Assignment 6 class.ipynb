{
 "cells": [
  {
   "cell_type": "markdown",
   "id": "faedd9b3",
   "metadata": {},
   "source": [
    "class"
   ]
  },
  {
   "cell_type": "code",
   "execution_count": 15,
   "id": "93afc399",
   "metadata": {},
   "outputs": [],
   "source": [
    "class complex:\n",
    "    def __init__(self,realport,imagport):\n",
    "        self.r=realport\n",
    "        self.i=imagport\n",
    "    def display(self):\n",
    "            \n",
    "            print(self.realport,self.imagport)\n",
    "    "
   ]
  },
  {
   "cell_type": "code",
   "execution_count": 17,
   "id": "de654f79",
   "metadata": {},
   "outputs": [],
   "source": [
    "class complex:\n",
    "    def __init__(self,realport,imagport):\n",
    "        self.r=realport\n",
    "        self.i=imagport\n",
    "    def display(self):\n",
    "            \n",
    "            print(self.realport,self.imagport)\n",
    "    \n",
    "    x=complex(3.0,-4.5)\n",
    "    x.i\n",
    "    x.r\n",
    "    "
   ]
  },
  {
   "cell_type": "code",
   "execution_count": 2,
   "id": "5413e2fd",
   "metadata": {},
   "outputs": [
    {
     "ename": "AttributeError",
     "evalue": "'complex' object has no attribute 'display'",
     "output_type": "error",
     "traceback": [
      "\u001b[1;31m---------------------------------------------------------------------------\u001b[0m",
      "\u001b[1;31mAttributeError\u001b[0m                            Traceback (most recent call last)",
      "Input \u001b[1;32mIn [2]\u001b[0m, in \u001b[0;36m<cell line: 2>\u001b[1;34m()\u001b[0m\n\u001b[0;32m      1\u001b[0m comp\u001b[38;5;241m=\u001b[39m\u001b[38;5;28mcomplex\u001b[39m(\u001b[38;5;241m3.0\u001b[39m,\u001b[38;5;241m-\u001b[39m\u001b[38;5;241m4.5\u001b[39m)\n\u001b[1;32m----> 2\u001b[0m \u001b[43mcomp\u001b[49m\u001b[38;5;241;43m.\u001b[39;49m\u001b[43mdisplay\u001b[49m()\n",
      "\u001b[1;31mAttributeError\u001b[0m: 'complex' object has no attribute 'display'"
     ]
    }
   ],
   "source": [
    "comp=complex(3.0,-4.5)\n",
    "comp.display()"
   ]
  },
  {
   "cell_type": "code",
   "execution_count": 18,
   "id": "0a74101b",
   "metadata": {},
   "outputs": [
    {
     "ename": "AttributeError",
     "evalue": "'complex' object has no attribute 'realport'",
     "output_type": "error",
     "traceback": [
      "\u001b[1;31m---------------------------------------------------------------------------\u001b[0m",
      "\u001b[1;31mAttributeError\u001b[0m                            Traceback (most recent call last)",
      "Input \u001b[1;32mIn [18]\u001b[0m, in \u001b[0;36m<cell line: 1>\u001b[1;34m()\u001b[0m\n\u001b[1;32m----> 1\u001b[0m \u001b[38;5;28;01mclass\u001b[39;00m \u001b[38;5;21;01mcomplex\u001b[39;00m:\n\u001b[0;32m      2\u001b[0m     \u001b[38;5;28;01mdef\u001b[39;00m \u001b[38;5;21m__init__\u001b[39m(\u001b[38;5;28mself\u001b[39m,realport,imagport):\n\u001b[0;32m      3\u001b[0m         \u001b[38;5;28mself\u001b[39m\u001b[38;5;241m.\u001b[39mr\u001b[38;5;241m=\u001b[39mrealport\n",
      "Input \u001b[1;32mIn [18]\u001b[0m, in \u001b[0;36mcomplex\u001b[1;34m()\u001b[0m\n\u001b[0;32m     10\u001b[0m x\u001b[38;5;241m.\u001b[39mi\n\u001b[0;32m     11\u001b[0m x\u001b[38;5;241m.\u001b[39mr\n\u001b[1;32m---> 12\u001b[0m \u001b[43mx\u001b[49m\u001b[38;5;241;43m.\u001b[39;49m\u001b[43mdisplay\u001b[49m\u001b[43m(\u001b[49m\u001b[43m)\u001b[49m\n",
      "Input \u001b[1;32mIn [17]\u001b[0m, in \u001b[0;36mcomplex.display\u001b[1;34m(self)\u001b[0m\n\u001b[0;32m      5\u001b[0m \u001b[38;5;28;01mdef\u001b[39;00m \u001b[38;5;21mdisplay\u001b[39m(\u001b[38;5;28mself\u001b[39m):\n\u001b[1;32m----> 7\u001b[0m         \u001b[38;5;28mprint\u001b[39m(\u001b[38;5;28;43mself\u001b[39;49m\u001b[38;5;241;43m.\u001b[39;49m\u001b[43mrealport\u001b[49m,\u001b[38;5;28mself\u001b[39m\u001b[38;5;241m.\u001b[39mimagport)\n",
      "\u001b[1;31mAttributeError\u001b[0m: 'complex' object has no attribute 'realport'"
     ]
    }
   ],
   "source": [
    "class complex:\n",
    "    def __init__(self,realport,imagport):\n",
    "        self.r=realport\n",
    "        self.i=imagport\n",
    "    def display(self):\n",
    "            \n",
    "            print(self.realport,self.imagport)\n",
    "    \n",
    "    x=complex(3.0,-4.5)\n",
    "    x.i\n",
    "    x.r\n",
    "    x.display()"
   ]
  },
  {
   "cell_type": "code",
   "execution_count": 21,
   "id": "feb6a4d0",
   "metadata": {},
   "outputs": [
    {
     "ename": "IndentationError",
     "evalue": "unexpected indent (746295240.py, line 4)",
     "output_type": "error",
     "traceback": [
      "\u001b[1;36m  Input \u001b[1;32mIn [21]\u001b[1;36m\u001b[0m\n\u001b[1;33m    def __init__(self,name):\u001b[0m\n\u001b[1;37m    ^\u001b[0m\n\u001b[1;31mIndentationError\u001b[0m\u001b[1;31m:\u001b[0m unexpected indent\n"
     ]
    }
   ],
   "source": [
    "#globalclass\n",
    "kind=canine\n",
    "\n",
    "    def __init__(self,name):\n",
    "    self.name=name\n",
    "    d=lion(\"fido\")\n",
    "    e=lion(\"buddy\")\n",
    "    d.kind= #shared by all lion\n",
    "    e.kind=#shared by all lion\n",
    "    d.name=#uniqe to d\n",
    "    e.name"
   ]
  },
  {
   "cell_type": "code",
   "execution_count": null,
   "id": "7c274fde",
   "metadata": {},
   "outputs": [],
   "source": []
  }
 ],
 "metadata": {
  "kernelspec": {
   "display_name": "Python 3 (ipykernel)",
   "language": "python",
   "name": "python3"
  },
  "language_info": {
   "codemirror_mode": {
    "name": "ipython",
    "version": 3
   },
   "file_extension": ".py",
   "mimetype": "text/x-python",
   "name": "python",
   "nbconvert_exporter": "python",
   "pygments_lexer": "ipython3",
   "version": "3.9.12"
  }
 },
 "nbformat": 4,
 "nbformat_minor": 5
}
